{
  "nbformat": 4,
  "nbformat_minor": 0,
  "metadata": {
    "colab": {
      "provenance": [],
      "include_colab_link": true
    },
    "kernelspec": {
      "name": "python3",
      "display_name": "Python 3"
    },
    "language_info": {
      "name": "python"
    }
  },
  "cells": [
    {
      "cell_type": "markdown",
      "metadata": {
        "id": "view-in-github",
        "colab_type": "text"
      },
      "source": [
        "<a href=\"https://colab.research.google.com/github/YifanChao/pandas/blob/main/CS263_HW.ipynb\" target=\"_parent\"><img src=\"https://colab.research.google.com/assets/colab-badge.svg\" alt=\"Open In Colab\"/></a>"
      ]
    },
    {
      "cell_type": "markdown",
      "source": [
        "# CS 263 HW Notebook\n",
        "\n",
        "This notebook comprises of python scripts to extract chatgpt output and instructions for checking the format of your files for the submission of the homework."
      ],
      "metadata": {
        "id": "xAW1pKvx5PTz"
      }
    },
    {
      "cell_type": "markdown",
      "source": [
        "## Extract ChatGPT Output"
      ],
      "metadata": {
        "id": "c4CBD9F0MLU9"
      }
    },
    {
      "cell_type": "code",
      "source": [
        "import re\n",
        "import json\n",
        "\n",
        "def argument_extractor(chatgpt_output, argument_roles=None):\n",
        "    # Define a regex pattern to capture roles and their corresponding arguments\n",
        "    pattern = r\"(?P<role>[A-Z][a-z]+): \\\"(?P<argument>[^\\\"]+)\\\"\"\n",
        "\n",
        "    # Use regex to find all matches in the ChatGPT output\n",
        "    matches = re.finditer(pattern, chatgpt_output)\n",
        "\n",
        "    # Dictionary to store the extracted arguments\n",
        "    extracted_arguments = {}\n",
        "\n",
        "    # Iterate over each match found\n",
        "    for match in matches:\n",
        "        role = match.group('role')\n",
        "        argument = match.group('argument')\n",
        "\n",
        "        # Check if a specific set of argument roles is provided for filtering\n",
        "        if argument_roles is None or role in argument_roles:\n",
        "            if role in extracted_arguments:\n",
        "                # Ensure multiple entries for the same role are stored in a list\n",
        "                if type(extracted_arguments[role]) is list:\n",
        "                    extracted_arguments[role].append(argument)\n",
        "                else:\n",
        "                    extracted_arguments[role] = [extracted_arguments[role], argument]\n",
        "            else:\n",
        "                extracted_arguments[role] = argument\n",
        "\n",
        "    # Convert the dictionary of extracted arguments to a JSON string\n",
        "    return json.dumps(extracted_arguments, indent=4)\n",
        "\n",
        "# Example usage of the function\n",
        "chatgpt_output = 'Analysis: Event Name: Infect Event Trigger Word: \"positive\" Argument Roles and Corresponding Arguments: Patient: \"someone\" Location: \"a church\" Time: \"the next day\"'\n",
        "# Define specific argument roles to extract, or set to None to extract all\n",
        "specific_roles = []  # Adjust this list based on your needs\n",
        "\n",
        "# Call the function with the output and specific roles\n",
        "extracted_arguments_json = argument_extractor(chatgpt_output, specific_roles)\n",
        "print(extracted_arguments_json)\n"
      ],
      "metadata": {
        "id": "_ST3-00z8gKo",
        "outputId": "70c22b8b-2843-48f6-dd3a-b7b45ca489e0",
        "colab": {
          "base_uri": "https://localhost:8080/"
        }
      },
      "execution_count": 6,
      "outputs": [
        {
          "output_type": "stream",
          "name": "stdout",
          "text": [
            "{}\n"
          ]
        }
      ]
    },
    {
      "cell_type": "markdown",
      "source": [
        "## File-check for formatting"
      ],
      "metadata": {
        "id": "5PrgnulpMPCP"
      }
    },
    {
      "cell_type": "code",
      "execution_count": null,
      "metadata": {
        "id": "wViu0qpq5LHp"
      },
      "outputs": [],
      "source": [
        "import json\n",
        "\n",
        "EVENT_NAMES = [\"infect\", \"spread\", \"symptom\", \"cure\", \"prevent\", \"control\", \"death\"]\n",
        "ONTOLOGY_FIELD_NAMES = {\"event_name\": str, \"argument_role\": str, \"role_description\": str, \"example_sentence\": str}\n",
        "DATA_ANNOTATION_FIELD_NAMES = {\"input_text\": str, \"event_name\": str, \"event_trigger\": str, \"arguments\": dict}\n",
        "PREDICTION_FIELD_NAMES = {\"input_text\": str, \"prompt\": str, \"output_text\": str, \"extracted_arguments\": dict}\n",
        "BREAKGPT_FIELD_NAMES = {\"input_text\": str, \"event_name\": str, \"event_trigger\": str, \"prompt\": str, \"output_text\": str, \"extracted_arguments\": dict, \"expected_arguments\": dict}\n",
        "\n",
        "def ontology_check(filename):\n",
        "  data = None\n",
        "  with open(filename, 'r') as f:\n",
        "    try:\n",
        "      data = json.load(f)\n",
        "    except:\n",
        "      print (\"ERROR: File is not a json file. Use json.dump to create your file\")\n",
        "      return\n",
        "\n",
        "  for i, dt in enumerate(data):\n",
        "    for field_name in dt.keys():\n",
        "      if field_name not in ONTOLOGY_FIELD_NAMES:\n",
        "        print (\"ERROR: Line %d: field name %s is incorrect. It should be within %s\" % (i+1, field_name, str(ONTOLOGY_FIELD_NAMES.keys())))\n",
        "        return\n",
        "\n",
        "    if dt[\"event_name\"] not in EVENT_NAMES:\n",
        "      print (\"ERROR: line %d has unknown event name %s. Please check.\" % (i+1, dt[\"event_name\"]))\n",
        "      return\n",
        "\n",
        "  print (\"PASSED: The format of the file %s looks correct!\" % filename)\n",
        "  return\n",
        "\n",
        "def json_check(filename, required_field_names, is_logs=0):\n",
        "  data = None\n",
        "  with open(filename, 'r') as f:\n",
        "    try:\n",
        "      data = json.load(f)\n",
        "    except:\n",
        "      print (\"ERROR: File is not a json file. Use json.dump to create your file\")\n",
        "      return\n",
        "\n",
        "  for i, dt in enumerate(data):\n",
        "    for field_name in dt.keys():\n",
        "      if field_name not in required_field_names.keys():\n",
        "        print (\"ERROR: Line %d: field name %s is incorrect. It should be within %s\" % (i+1, field_name, str(required_field_names.keys())))\n",
        "        return\n",
        "\n",
        "    for var, typ in required_field_names.items():\n",
        "      if not isinstance(dt[var], typ):\n",
        "        print (\"ERROR: Line %d: dt['%s'] is not a %s\" % (i+1, var, str(typ)))\n",
        "        return\n",
        "\n",
        "    if \"arguments\" in required_field_names and \"input_text\" in required_field_names:\n",
        "      for role, arg in dt[\"arguments\"].items():\n",
        "        if isinstance(arg, str) and arg not in dt[\"input_text\"]:\n",
        "          print (\"ERROR: Line %d: argument '%s' not in the input text. Make sure your argument is in the input text\" % (i+1, arg))\n",
        "          return\n",
        "        elif isinstance(arg, list):\n",
        "          for a in arg:\n",
        "            assert isinstance(a, str)\n",
        "            if a not in dt[\"input_text\"]:\n",
        "              print (\"ERROR: Line %d: argument '%s' not in the input text. Make sure your argument is in the input text\" % (i+1, a))\n",
        "              return\n",
        "\n",
        "    if \"expected_arguments\" in required_field_names and \"input_text\" in required_field_names:\n",
        "      for role, arg in dt[\"expected_arguments\"].items():\n",
        "        if isinstance(arg, str) and arg not in dt[\"input_text\"]:\n",
        "          print (\"ERROR: Line %d: expected argument '%s' not in the input text. Make sure your argument is in the input text\" % (i+1, arg))\n",
        "          return\n",
        "        elif isinstance(arg, list):\n",
        "          for a in arg:\n",
        "            assert isinstance(a, str)\n",
        "            if a not in dt[\"input_text\"]:\n",
        "              print (\"ERROR: Line %d: argument '%s' not in the input text. Make sure your argument is in the input text\" % (i+1, a))\n",
        "              return\n",
        "\n",
        "    if \"extracted_arguments\" in required_field_names and \"output_text\" in required_field_names and not is_logs:\n",
        "      if argument_extractor(dt[\"output_text\"]) != dt[\"extracted_arguments\"]:\n",
        "        print (\"ERROR: Line %d: extracted arguments is inconsistent with chatgpt output based on script\" % (i+1))\n",
        "        return\n",
        "\n",
        "  print (\"PASSED: The format of the file %s looks correct!\" % filename)\n",
        "  return\n",
        "\n",
        "def check_all_file_format():\n",
        "  ontology_check(\"ontology.json\")\n",
        "  json_check(\"in_context-annotated.json\", DATA_ANNOTATION_FIELD_NAMES)\n",
        "  json_check(\"eval_data-annotated.json\", DATA_ANNOTATION_FIELD_NAMES)\n",
        "  json_check(\"logs.json\", PREDICTION_FIELD_NAMES, is_logs=1)\n",
        "  json_check(\"pred.json\", PREDICTION_FIELD_NAMES)\n",
        "  json_check(\"break-gpt.json\", BREAKGPT_FIELD_NAMES)"
      ]
    },
    {
      "cell_type": "code",
      "source": [
        "check_all_file_format()"
      ],
      "metadata": {
        "id": "pzkg0WjUgaPo"
      },
      "execution_count": null,
      "outputs": []
    },
    {
      "cell_type": "code",
      "source": [],
      "metadata": {
        "id": "ZYoK3rWyVQF4"
      },
      "execution_count": null,
      "outputs": []
    }
  ]
}